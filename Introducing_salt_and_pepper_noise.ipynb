{
  "nbformat": 4,
  "nbformat_minor": 0,
  "metadata": {
    "colab": {
      "name": "Introducing salt and pepper noise",
      "provenance": []
    },
    "kernelspec": {
      "name": "python3",
      "display_name": "Python 3"
    },
    "language_info": {
      "name": "python"
    }
  },
  "cells": [
    {
      "cell_type": "code",
      "metadata": {
        "colab": {
          "base_uri": "https://localhost:8080/"
        },
        "id": "4Yao0QjdPWQU",
        "outputId": "c2f67036-dbbf-4d3c-c570-5a80f3cf0361"
      },
      "source": [
        "root_dir =\"/content/drive/MyDrive/Project/images\"\n",
        "import os\n",
        "i = os.listdir(root_dir)\n",
        "len(i)"
      ],
      "execution_count": null,
      "outputs": [
        {
          "output_type": "execute_result",
          "data": {
            "text/plain": [
              "7199"
            ]
          },
          "metadata": {},
          "execution_count": 1
        }
      ]
    },
    {
      "cell_type": "code",
      "metadata": {
        "id": "yWKzZwJiUcDh"
      },
      "source": [
        "import random\n",
        "random.shuffle(i)"
      ],
      "execution_count": null,
      "outputs": []
    },
    {
      "cell_type": "code",
      "metadata": {
        "id": "iGhsZ3ULRtpF"
      },
      "source": [
        "import random\n",
        "import cv2\n",
        "\n",
        "def add_noise(img):\n",
        "\n",
        "\t\n",
        "\trow , col = img.shape\n",
        "\t\n",
        "\t\n",
        "\tnumber_of_pixels = random.randint(700, 1000)\n",
        "\tfor i in range(number_of_pixels):\n",
        "\t\t\n",
        "\t\ty_coord=random.randint(0, row - 1)\n",
        "\t\t\n",
        "\t\tx_coord=random.randint(0, col - 1)\n",
        "\t\t\n",
        "\t\timg[y_coord][x_coord] = 255\n",
        "\t\t\n",
        "\tnumber_of_pixels = random.randint(700 , 1000)\n",
        "\tfor i in range(number_of_pixels):\n",
        "\t\t\n",
        "\t\ty_coord=random.randint(0, row - 1)\n",
        "\t\t\n",
        "\t\tx_coord=random.randint(0, col - 1)\n",
        "\t\t\n",
        "\t\timg[y_coord][x_coord] = 0\n",
        "\t\t\n",
        "\treturn img\n",
        "destination1 = '/content/drive/MyDrive/Project/1000 pics/noisy images'\n",
        "destination2='/content/drive/MyDrive/Project/1000 pics/clean images'\n",
        "count=0\n",
        "for image in i:\n",
        "  count = count+1\n",
        "  source = root_dir +'/'+image\n",
        "  img = cv2.imread(source,cv2.IMREAD_GRAYSCALE)\n",
        "  img = img[256:356, 256:356]\n",
        "  dest1=destination1+'/'+str(count)+\".png\"\n",
        "  dest2=destination2+'/'+str(count)+\".png\"\n",
        "  cv2.imwrite(dest2,img)\t\n",
        "  cv2.imwrite(dest1,add_noise(img))\t\t\n",
        "  print(count)"
      ],
      "execution_count": null,
      "outputs": []
    },
    {
      "cell_type": "code",
      "metadata": {
        "id": "T7mH9UpSVkGl"
      },
      "source": [
        ""
      ],
      "execution_count": null,
      "outputs": []
    }
  ]
}